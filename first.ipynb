{
 "cells": [
  {
   "cell_type": "code",
   "execution_count": null,
   "metadata": {},
   "outputs": [],
   "source": [
    "import torch\n",
    "import torch.nn as nn\n",
    "\n",
    "def confidence_loss(output):\n",
    "    ...\n",
    "    \n",
    "class TwoLayerNet(nn.Module):\n",
    "    def __init__(self, input_size, hidden_size, output_size):\n",
    "        super(TwoLayerNet, self).__init__()\n",
    "        self.fully_connected_1 = nn.Linear(input_size, hidden_size)\n",
    "        self.fully_connected_2 = nn.Linear(hidden_size, output_size)\n",
    "\n",
    "        print(\"TwoLayerNet initialized\")\n",
    "\n",
    "    def forward(self, x):\n",
    "        x = torch.relu(self.fully_connected_1(x))\n",
    "        x = self.fully_connected_2(x)\n",
    "        return x\n",
    "\n",
    "class TwoLayerNetDynamic(nn.Module):\n",
    "    def __init__(self, input_size, hidden_size, output_size):\n",
    "        super(TwoLayerNet, self).__init__()\n",
    "        self.fully_connected_1 = nn.Linear(input_size, hidden_size)\n",
    "        self.early_exit_1 = nn.Linear(hidden_size, output_size)\n",
    "\n",
    "        self.fully_connected_2 = nn.Linear(hidden_size, output_size)\n",
    "\n",
    "        print(\"TwoLayerNetDynamic initialized\")\n",
    "\n",
    "    def forward(self, x):\n",
    "        x = torch.relu(self.fully_connected_1(x))\n",
    "        if self.early_exit_1(x):\n",
    "            return\n",
    "        x = self.fully_connected_2(x)\n",
    "        return x"
   ]
  },
  {
   "cell_type": "code",
   "execution_count": null,
   "metadata": {},
   "outputs": [
    {
     "name": "stdout",
     "output_type": "stream",
     "text": [
      "TwoLayerNet initialized\n"
     ]
    },
    {
     "name": "stderr",
     "output_type": "stream",
     "text": [
      "/home/iony/miniconda3/envs/lgvit/lib/python3.9/site-packages/torch/nn/modules/loss.py:608: UserWarning: Using a target size (torch.Size([5, 1])) that is different to the input size (torch.Size([5, 21])). This will likely lead to incorrect results due to broadcasting. Please ensure they have the same size.\n",
      "  return F.mse_loss(input, target, reduction=self.reduction)\n",
      "/home/iony/miniconda3/envs/lgvit/lib/python3.9/site-packages/torch/nn/modules/loss.py:608: UserWarning: Using a target size (torch.Size([1, 1])) that is different to the input size (torch.Size([1, 21])). This will likely lead to incorrect results due to broadcasting. Please ensure they have the same size.\n",
      "  return F.mse_loss(input, target, reduction=self.reduction)\n"
     ]
    },
    {
     "name": "stdout",
     "output_type": "stream",
     "text": [
      "Epoch [10/500], Loss: 0.0085, Accuracy: 2088.43%\n",
      "Accuracy is above 90%, stopping training\n"
     ]
    }
   ],
   "source": [
    "DEVICE = torch.device('cuda' if torch.cuda.is_available() else 'cpu')\n",
    "\n",
    "def train_model(model, x_train, y_train, batch_size=5, epochs=100, learning_rate=0.01):\n",
    "    # pass data to device\n",
    "    x_train = x_train.to(DEVICE)\n",
    "    y_train = y_train.to(DEVICE)\n",
    "\n",
    "    # Check if CUDA is available and move model to GPU if possible\n",
    "    model.to(DEVICE)\n",
    "\n",
    "    # Define loss function and optimizer\n",
    "    criterion = nn.MSELoss()\n",
    "    optimizer = torch.optim.SGD(model.parameters(), lr=learning_rate)\n",
    "\n",
    "    # Training loop\n",
    "    for epoch in range(epochs):\n",
    "        model.train()\n",
    "        permutation = torch.randperm(x_train.size(0))\n",
    "\n",
    "        for i in range(0, x_train.size(0), batch_size):\n",
    "            indices = permutation[i:i + batch_size]\n",
    "            batch_x, batch_y = x_train[indices], y_train[indices]\n",
    "\n",
    "            optimizer.zero_grad()\n",
    "            outputs = model(batch_x)\n",
    "            loss = criterion(outputs, batch_y)\n",
    "            loss.backward()\n",
    "            optimizer.step()\n",
    "\n",
    "        if (epoch + 1) % 10 == 0:\n",
    "            epoch_print = f\"Epoch [{epoch + 1}/{epochs}], Loss: {loss.item():.4f}\"\n",
    "    \n",
    "            # Calculate accuracy\n",
    "            model.eval()\n",
    "            with torch.no_grad():\n",
    "                outputs = model(x_train)\n",
    "                predicted = outputs.round()\n",
    "                accuracy = (predicted == y_train).sum().item() / y_train.size(0)\n",
    "                epoch_print += f', Accuracy: {accuracy * 100:.2f}%'\n",
    "\n",
    "            print(epoch_print)\n",
    "            if accuracy > 0.90:\n",
    "                print('Accuracy is above 90%, stopping training')\n",
    "                break\n",
    "    \n",
    "    return model\n",
    "\n",
    "def eval_model(model, x_test, y_test):\n",
    "    x_test = x_test.to(DEVICE)\n",
    "    y_test = y_test.to(DEVICE)\n",
    "\n",
    "    # Calculate accuracy\n",
    "    model.eval()\n",
    "    with torch.no_grad():\n",
    "        outputs = model(x_test)\n",
    "        predicted = outputs.round()\n",
    "        accuracy = (predicted == y_test).sum().item() / y_test.size(0)\n",
    "        print(f'Accuracy: {accuracy * 100:.2f}%')\n",
    "\n",
    "# Prepare data\n",
    "# Generate training data\n",
    "train_range = 11\n",
    "num_classes = 21 # 0-20. max is 10+10=20\n",
    "\n",
    "x_train = torch.tensor([[i, j] for i in range(train_range) for j in range(train_range)], dtype=torch.float32)\n",
    "y_train = torch.tensor([[i + j] for (i, j) in x_train], dtype=torch.float32)\n",
    "y_one_hot = torch.nn.functional.one_hot(y_train.to(torch.int64), num_classes=21).to(torch.float32)\n",
    "\n",
    "# Train the model\n",
    "model = TwoLayerNet(input_size=2, hidden_size=3, output_size=num_classes)\n",
    "model = train_model(model, epochs=500, x_train=x_train, y_train=y_one_hot)\n",
    "# eval_model(model)\n"
   ]
  },
  {
   "cell_type": "code",
   "execution_count": null,
   "metadata": {},
   "outputs": [],
   "source": [
    "print(x_train[:5])\n",
    "print(y_train[-5:])\n",
    "\n",
    "# print(y_train.max())\n",
    "y_one_hot = torch.nn.functional.one_hot(y_train.to(torch.int64), num_classes=21).to(torch.float32)\n",
    "\n",
    "# print(batch_y[:5])\n",
    "print(y_one_hot[-5:])\n"
   ]
  },
  {
   "cell_type": "code",
   "execution_count": null,
   "metadata": {},
   "outputs": [],
   "source": [
    "i_rand = torch.randint(0, 10, (1,)).item()\n",
    "j_rand = torch.randint(0, 10, (1,)).item()\n",
    "x = torch.tensor([i_rand, j_rand], dtype=torch.float32)\n",
    "y = torch.tensor([i_rand + j_rand], dtype=torch.float32)\n",
    "\n",
    "print(f'Input: {x}, Expected: {y}')\n",
    "\n",
    "y_one_hot = torch.nn.functional.one_hot(y.to(torch.int64), num_classes=11).to(torch.float32)\n",
    "print(f'One hot encoded: {y_one_hot}')\n"
   ]
  },
  {
   "cell_type": "code",
   "execution_count": null,
   "metadata": {},
   "outputs": [],
   "source": [
    "def sum_numbers(x, model):\n",
    "    model.eval()\n",
    "    y_pred = model(x)\n",
    "    return y_pred.item()\n",
    "\n",
    "i_rand = torch.randint(0, 10, (1,)).item()\n",
    "j_rand = torch.randint(0, 10, (1,)).item()\n",
    "x = torch.tensor([i_rand, j_rand], dtype=torch.float32).to(DEVICE)\n",
    "# result = sum_numbers(i_rand, j_rand, model)\n",
    "\n",
    "# print(f'i: {i_rand}, j: {j_rand}')\n",
    "# print(f'Expected: {i_rand + j_rand}, got: {result}')\n",
    "\n",
    "model_name = \"my_model\"\n",
    "torch.onnx.export(model=model,args=x, f=f\"./models/onnx/{model_name}.onnx\", input_names=[\"input\"], output_names=[\"prediction\"])\n"
   ]
  },
  {
   "cell_type": "code",
   "execution_count": null,
   "metadata": {},
   "outputs": [],
   "source": [
    "result"
   ]
  }
 ],
 "metadata": {
  "kernelspec": {
   "display_name": "lgvit",
   "language": "python",
   "name": "python3"
  },
  "language_info": {
   "codemirror_mode": {
    "name": "ipython",
    "version": 3
   },
   "file_extension": ".py",
   "mimetype": "text/x-python",
   "name": "python",
   "nbconvert_exporter": "python",
   "pygments_lexer": "ipython3",
   "version": "3.9.20"
  }
 },
 "nbformat": 4,
 "nbformat_minor": 2
}
