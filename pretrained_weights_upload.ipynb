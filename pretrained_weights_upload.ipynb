{
 "cells": [
  {
   "cell_type": "code",
   "execution_count": 2,
   "metadata": {},
   "outputs": [],
   "source": [
    "import torch\n",
    "import json\n",
    "\n",
    "\n",
    "# Function to upload and load the model\n",
    "def load_model(model_path: str):\n",
    "    state_dict = torch.load(model_path, map_location=\"cpu\", weights_only=True)\n",
    "    return state_dict\n",
    "\n",
    "\n",
    "def load_config_trained(config_path: str):\n",
    "    \"\"\"\n",
    "    loads the json config file for the trained model\n",
    "    \"\"\"\n",
    "    with open(config_path, \"r\") as f:\n",
    "        config = json.load(f)\n",
    "    return config"
   ]
  },
  {
   "cell_type": "markdown",
   "metadata": {},
   "source": [
    "# loading pre-trained weigths"
   ]
  },
  {
   "cell_type": "code",
   "execution_count": null,
   "metadata": {},
   "outputs": [],
   "source": [
    "# Load the model and config\n",
    "saved_model_state_dict = load_model(\n",
    "    \"/home/iony/DTU/f24/thesis/code/lgvit/LGViT-ViT-Cifar100/pytorch_model.bin\"\n",
    ")\n",
    "config_pretrained = load_config_trained(\n",
    "    \"/home/iony/DTU/f24/thesis/code/lgvit/LGViT-ViT-Cifar100/config.json\"\n",
    ")\n",
    "# Display the model structure\n",
    "for key, value in saved_model_state_dict.items():\n",
    "    print(f\"{key}: {value.shape}\")"
   ]
  },
  {
   "cell_type": "markdown",
   "metadata": {},
   "source": [
    "# Mapping weights"
   ]
  },
  {
   "cell_type": "code",
   "execution_count": null,
   "metadata": {},
   "outputs": [],
   "source": [
    "lgvit_map = {\n",
    "    \"patch_embedding.pos_embedding\": saved_model_state_dict[\n",
    "        \"deit.embeddings.position_embeddings\"\n",
    "    ],\n",
    "    \"patch_embedding.cls_token\": saved_model_state_dict[\"deit.embeddings.cls_token\"],\n",
    "    \"patch_embedding.projection.weight\": saved_model_state_dict[\n",
    "        \"deit.embeddings.patch_embeddings.projection.weight\"\n",
    "    ],\n",
    "    \"patch_embedding.projection.bias\": saved_model_state_dict[\n",
    "        \"deit.embeddings.patch_embeddings.projection.bias\"\n",
    "    ],\n",
    "    \"transformer.norm_post_layers.weight\": saved_model_state_dict[\n",
    "        \"deit.layernorm.weight\"\n",
    "    ],\n",
    "    \"transformer.norm_post_layers.bias\": saved_model_state_dict[\"deit.layernorm.bias\"],\n",
    "    \"last_classifier.weight\": saved_model_state_dict[\"classifier.weight\"],\n",
    "    \"last_classifier.bias\": saved_model_state_dict[\"classifier.bias\"],\n",
    "}\n",
    "\n",
    "for i in range(config_pretrained[\"num_hidden_layers\"]):\n",
    "    lgvit_map[f\"transformer.layers.{i}.norm.weight\"] = saved_model_state_dict[\n",
    "        f\"deit.encoder.layer.{i}.layernorm_before.weight\"\n",
    "    ]\n",
    "    lgvit_map[f\"transformer.layers.{i}.norm.bias\"] = saved_model_state_dict[\n",
    "        f\"deit.encoder.layer.{i}.layernorm_before.bias\"\n",
    "    ]\n",
    "\n",
    "    lgvit_map[f\"transformer.layers.{i}.W_QKV.weight\"] = torch.cat(\n",
    "        [\n",
    "            saved_model_state_dict[\n",
    "                f\"deit.encoder.layer.{i}.attention.attention.query.weight\"\n",
    "            ],\n",
    "            saved_model_state_dict[\n",
    "                f\"deit.encoder.layer.{i}.attention.attention.key.weight\"\n",
    "            ],\n",
    "            saved_model_state_dict[\n",
    "                f\"deit.encoder.layer.{i}.attention.attention.value.weight\"\n",
    "            ],\n",
    "        ],\n",
    "        dim=0,\n",
    "    )\n",
    "\n",
    "    lgvit_map[f\"transformer.layers.{i}.W_QKV.bias\"] = torch.cat(\n",
    "        [\n",
    "            saved_model_state_dict[\n",
    "                f\"deit.encoder.layer.{i}.attention.attention.query.bias\"\n",
    "            ],\n",
    "            saved_model_state_dict[\n",
    "                f\"deit.encoder.layer.{i}.attention.attention.key.bias\"\n",
    "            ],\n",
    "            saved_model_state_dict[\n",
    "                f\"deit.encoder.layer.{i}.attention.attention.value.bias\"\n",
    "            ],\n",
    "        ],\n",
    "        dim=0,\n",
    "    )\n",
    "\n",
    "    lgvit_map[f\"transformer.layers.{i}.attention_output.0.weight\"] = (\n",
    "        saved_model_state_dict[f\"deit.encoder.layer.{i}.attention.output.dense.weight\"]\n",
    "    )\n",
    "    lgvit_map[f\"transformer.layers.{i}.attention_output.0.bias\"] = (\n",
    "        saved_model_state_dict[f\"deit.encoder.layer.{i}.attention.output.dense.bias\"]\n",
    "    )\n",
    "\n",
    "    lgvit_map[f\"transformer.layers.{i}.norm_mlp.norm.weight\"] = saved_model_state_dict[\n",
    "        f\"deit.encoder.layer.{i}.layernorm_after.weight\"\n",
    "    ]\n",
    "    lgvit_map[f\"transformer.layers.{i}.norm_mlp.norm.bias\"] = saved_model_state_dict[\n",
    "        f\"deit.encoder.layer.{i}.layernorm_after.bias\"\n",
    "    ]\n",
    "\n",
    "    lgvit_map[f\"transformer.layers.{i}.norm_mlp.mlp.0.weight\"] = saved_model_state_dict[\n",
    "        f\"deit.encoder.layer.{i}.intermediate.dense.weight\"\n",
    "    ]\n",
    "    lgvit_map[f\"transformer.layers.{i}.norm_mlp.mlp.0.bias\"] = saved_model_state_dict[\n",
    "        f\"deit.encoder.layer.{i}.intermediate.dense.bias\"\n",
    "    ]\n",
    "\n",
    "    lgvit_map[f\"transformer.layers.{i}.norm_mlp.mlp.3.weight\"] = saved_model_state_dict[\n",
    "        f\"deit.encoder.layer.{i}.output.dense.weight\"\n",
    "    ]\n",
    "    lgvit_map[f\"transformer.layers.{i}.norm_mlp.mlp.3.bias\"] = saved_model_state_dict[\n",
    "        f\"deit.encoder.layer.{i}.output.dense.bias\"\n",
    "    ]\n",
    "\n",
    "\n",
    "def check_keys_usage(source_dict, target_dict):\n",
    "    unused_keys = set(source_dict.keys()) - set(target_dict.keys())\n",
    "\n",
    "    unused_keys = sorted(unused_keys)\n",
    "    if unused_keys:\n",
    "        print(\"Unused keys in source dictionary:\\n\")\n",
    "        for key in unused_keys:\n",
    "            print(key)\n",
    "    else:\n",
    "        print(\"All keys in the source dictionary are used in the target dictionary.\")\n",
    "\n",
    "\n",
    "check_keys_usage(saved_model_state_dict, lgvit_map)"
   ]
  },
  {
   "cell_type": "code",
   "execution_count": null,
   "metadata": {},
   "outputs": [],
   "source": [
    "for key, value in lgvit_map.items():\n",
    "    print(f\"{key}: {value.shape}\")"
   ]
  },
  {
   "cell_type": "code",
   "execution_count": null,
   "metadata": {},
   "outputs": [],
   "source": [
    "import utils as my_utils\n",
    "\n",
    "args = my_utils.parse_config(from_argparse=False)\n",
    "\n",
    "# Dataset config\n",
    "dataset_config = args[\"dataset\"]\n",
    "# ViT config\n",
    "model_config = args[\"model\"]\n",
    "\n",
    "model = my_utils.get_model(model_config, verbose=True)"
   ]
  },
  {
   "cell_type": "code",
   "execution_count": null,
   "metadata": {},
   "outputs": [],
   "source": [
    "for key, value in model.state_dict().items():\n",
    "    print(f\"{key}:\", \"\\t\", value.shape)"
   ]
  },
  {
   "cell_type": "markdown",
   "metadata": {},
   "source": [
    "# Copying weights from one model to another"
   ]
  },
  {
   "cell_type": "code",
   "execution_count": null,
   "metadata": {},
   "outputs": [],
   "source": [
    "incompatible_keys = model.load_state_dict(lgvit_map, strict=False)\n",
    "\n",
    "print(incompatible_keys.missing_keys)\n",
    "print(incompatible_keys.unexpected_keys)"
   ]
  },
  {
   "cell_type": "markdown",
   "metadata": {},
   "source": [
    "# Pytorch example"
   ]
  },
  {
   "cell_type": "code",
   "execution_count": null,
   "metadata": {},
   "outputs": [],
   "source": [
    "import torch.nn as nn\n",
    "import torch.nn.functional as F\n",
    "import torch.optim as optim\n",
    "\n",
    "\n",
    "class SubNet(nn.Module):\n",
    "    def __init__(self):\n",
    "        super(SubNet, self).__init__()\n",
    "        self.fc1 = nn.Linear(16 * 5 * 5, 120)\n",
    "        self.fc2 = nn.Linear(120, 84)\n",
    "        self.fc3 = nn.Linear(84, 10)\n",
    "\n",
    "    def forward(self, x):\n",
    "        x = x.view(-1, 16 * 5 * 5)\n",
    "        x = F.relu(self.fc1(x))\n",
    "        x = F.relu(self.fc2(x))\n",
    "        x = self.fc3(x)\n",
    "        return x\n",
    "\n",
    "\n",
    "class Net(nn.Module):\n",
    "    def __init__(self):\n",
    "        super(Net, self).__init__()\n",
    "        self.conv1 = nn.Conv2d(3, 6, 5)\n",
    "        self.pool = nn.MaxPool2d(2, 2)\n",
    "        self.conv2 = nn.Conv2d(6, 16, 5)\n",
    "        self.linear_layers = SubNet()\n",
    "\n",
    "    def forward(self, x):\n",
    "        x = self.pool(F.relu(self.conv1(x)))\n",
    "        x = self.pool(F.relu(self.conv2(x)))\n",
    "        x = self.linear_layers(x)\n",
    "        return x\n",
    "\n",
    "\n",
    "net = Net()\n",
    "print(net)"
   ]
  },
  {
   "cell_type": "code",
   "execution_count": null,
   "metadata": {},
   "outputs": [],
   "source": [
    "optimizer = optim.SGD(net.parameters(), lr=0.001, momentum=0.9)\n",
    "# Print model's state_dict\n",
    "print(\"Model's state_dict:\")\n",
    "for param_tensor in net.state_dict():\n",
    "    print(param_tensor, \"\\t\", net.state_dict()[param_tensor].size())\n",
    "\n",
    "print()\n",
    "\n",
    "# Print optimizer's state_dict\n",
    "print(\"Optimizer's state_dict:\")\n",
    "for var_name in optimizer.state_dict():\n",
    "    print(var_name, \"\\t\", optimizer.state_dict()[var_name])"
   ]
  }
 ],
 "metadata": {
  "kernelspec": {
   "display_name": "eevit",
   "language": "python",
   "name": "python3"
  },
  "language_info": {
   "codemirror_mode": {
    "name": "ipython",
    "version": 3
   },
   "file_extension": ".py",
   "mimetype": "text/x-python",
   "name": "python",
   "nbconvert_exporter": "python",
   "pygments_lexer": "ipython3",
   "version": "3.9.21"
  }
 },
 "nbformat": 4,
 "nbformat_minor": 2
}
