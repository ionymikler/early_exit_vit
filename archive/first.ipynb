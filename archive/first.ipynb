{
 "cells": [
  {
   "cell_type": "code",
   "execution_count": 25,
   "metadata": {},
   "outputs": [],
   "source": [
    "import torch\n",
    "import torch.nn as nn\n",
    "\n",
    "def confidence_loss(output):\n",
    "    ...\n",
    "    \n",
    "class TwoLayerNet(nn.Module):\n",
    "    def __init__(self, input_size, hidden_size, output_size):\n",
    "        super(TwoLayerNet, self).__init__()\n",
    "        self.fully_connected_1 = nn.Linear(input_size, hidden_size)\n",
    "        self.fully_connected_2 = nn.Linear(hidden_size, output_size)\n",
    "\n",
    "        print(\"TwoLayerNet initialized\")\n",
    "\n",
    "    def forward(self, x):\n",
    "        x = torch.relu(self.fully_connected_1(x))\n",
    "        x = self.fully_connected_2(x)\n",
    "        return x\n",
    "\n",
    "class TwoLayerNetDynamic(nn.Module):\n",
    "    def __init__(self, input_size, hidden_size, output_size):\n",
    "        super(TwoLayerNet, self).__init__()\n",
    "        self.fully_connected_1 = nn.Linear(input_size, hidden_size)\n",
    "        self.early_exit_1 = nn.Linear(hidden_size, output_size)\n",
    "\n",
    "        self.fully_connected_2 = nn.Linear(hidden_size, output_size)\n",
    "\n",
    "        print(\"TwoLayerNetDynamic initialized\")\n",
    "\n",
    "    def forward(self, x):\n",
    "        i, j = x[:, 0], x[:, 1]\n",
    "        _sum = i + j\n",
    "        x = torch.relu(self.fully_connected_1(x))\n",
    "\n",
    "        if _sum == self.early_exit_1(x).round():\n",
    "            x = self.early_exit_1(x)\n",
    "            print(\"Exiting early\")\n",
    "        else:\n",
    "            x = self.fully_connected_2(x)\n",
    "        return x"
   ]
  },
  {
   "cell_type": "code",
   "execution_count": null,
   "metadata": {},
   "outputs": [
    {
     "name": "stdout",
     "output_type": "stream",
     "text": [
      "TwoLayerNet initialized\n",
      "Epoch [10/500], Loss: 15.7539, Accuracy: 9.09%\n",
      "Epoch [20/500], Loss: 34.6432, Accuracy: 9.09%\n",
      "Epoch [30/500], Loss: 0.6336, Accuracy: 43.80%\n",
      "Epoch [40/500], Loss: 0.8069, Accuracy: 2.48%\n",
      "Epoch [50/500], Loss: 0.0211, Accuracy: 9.92%\n",
      "Epoch [60/500], Loss: 0.0531, Accuracy: 28.10%\n",
      "Epoch [70/500], Loss: 0.0154, Accuracy: 69.42%\n",
      "Epoch [80/500], Loss: 1.1580, Accuracy: 60.33%\n",
      "Epoch [90/500], Loss: 0.0002, Accuracy: 87.60%\n",
      "Epoch [100/500], Loss: 2.5832, Accuracy: 14.05%\n",
      "Epoch [110/500], Loss: 0.1360, Accuracy: 24.79%\n",
      "Epoch [120/500], Loss: 0.0000, Accuracy: 91.74%\n",
      "Accuracy is above 90%, stopping training\n"
     ]
    }
   ],
   "source": [
    "DEVICE = torch.device('cuda' if torch.cuda.is_available() else 'cpu')\n",
    "\n",
    "def train_model(model, x_train, y_train, batch_size=5, epochs=100, learning_rate=0.01):\n",
    "    # pass data to device\n",
    "    x_train = x_train.to(DEVICE)\n",
    "    y_train = y_train.to(DEVICE)\n",
    "\n",
    "    # Check if CUDA is available and move model to GPU if possible\n",
    "    model.to(DEVICE)\n",
    "\n",
    "    # Define loss function and optimizer\n",
    "    criterion = nn.MSELoss()\n",
    "    optimizer = torch.optim.SGD(model.parameters(), lr=learning_rate)\n",
    "\n",
    "    # Training loop\n",
    "    for epoch in range(epochs):\n",
    "        model.train()\n",
    "        permutation = torch.randperm(x_train.size(0))\n",
    "\n",
    "        for i in range(0, x_train.size(0), batch_size):\n",
    "            indices = permutation[i:i + batch_size]\n",
    "            batch_x, batch_y = x_train[indices], y_train[indices]\n",
    "\n",
    "            optimizer.zero_grad()\n",
    "            outputs = model(batch_x)\n",
    "            loss = criterion(outputs, batch_y)\n",
    "            loss.backward()\n",
    "            optimizer.step()\n",
    "\n",
    "        if (epoch + 1) % 10 == 0:\n",
    "            epoch_print = f\"Epoch [{epoch + 1}/{epochs}], Loss: {loss.item():.4f}\"\n",
    "    \n",
    "            # Calculate accuracy\n",
    "            model.eval()\n",
    "            with torch.no_grad():\n",
    "                outputs = model(x_train)\n",
    "                predicted = outputs.round()\n",
    "                accuracy = (predicted == y_train).sum().item() / y_train.size(0)\n",
    "                epoch_print += f', Accuracy: {accuracy * 100:.2f}%'\n",
    "\n",
    "            print(epoch_print)\n",
    "            if accuracy > 0.90:\n",
    "                print('Accuracy is above 90%, stopping training')\n",
    "                break\n",
    "    \n",
    "    return model\n",
    "\n",
    "def eval_model(model, x_test, y_test):\n",
    "    x_test = x_test.to(DEVICE)\n",
    "    y_test = y_test.to(DEVICE)\n",
    "\n",
    "    # Calculate accuracy\n",
    "    model.eval()\n",
    "    with torch.no_grad():\n",
    "        outputs = model(x_test)\n",
    "        predicted = outputs.round()\n",
    "        accuracy = (predicted == y_test).sum().item() / y_test.size(0)\n",
    "        print(f'Evaluation accuracy: {accuracy * 100:.2f}%')\n",
    "\n",
    "# Prepare data\n",
    "# Generate training data\n",
    "train_range = 11\n",
    "num_classes = 21 # 0-20. max is 10+10=20\n",
    "\n",
    "x_train = torch.tensor([[i, j] for i in range(train_range) for j in range(train_range)], dtype=torch.float32)\n",
    "y_train = torch.tensor([[i + j] for (i, j) in x_train], dtype=torch.float32)\n",
    "# y_one_hot = torch.nn.functional.one_hot(y_train.to(torch.int64), num_classes=21).to(torch.float32)\n",
    "\n",
    "# Train the model\n",
    "model = TwoLayerNet(input_size=2, hidden_size=3, output_size=1)\n",
    "model = train_model(model, epochs=500, x_train=x_train, y_train=y_train)\n",
    "eval_model(model, x_test=x_train, y_test=y_train)\n"
   ]
  },
  {
   "cell_type": "code",
   "execution_count": 21,
   "metadata": {},
   "outputs": [
    {
     "name": "stdout",
     "output_type": "stream",
     "text": [
      "tensor([[8., 1.],\n",
      "        [0., 5.],\n",
      "        [2., 7.],\n",
      "        [8., 8.],\n",
      "        [9., 4.]])\n",
      "tensor([8., 0., 2., 8., 9.])\n",
      "tensor([1., 5., 7., 8., 4.])\n",
      "tensor([ 9.,  5.,  9., 16., 13.])\n",
      "tensor([[ 9.,  5.,  9., 16., 13.]])\n",
      "True\n",
      "torch.Size([5])\n",
      "torch.Size([5])\n"
     ]
    }
   ],
   "source": [
    "# Inside the 'train' fn...\n",
    "# arguments\n",
    "batch_size = 5\n",
    "# function\n",
    "_permutation = torch.randperm(x_train.size(0))\n",
    "# print(_permutation)\n",
    "# for i in range(0, x_train.size(0), batch_size):\n",
    "i = 0\n",
    "_indices = _permutation[i:i + batch_size]\n",
    "_batch_x, _batch_y = x_train[_indices], y_train[_indices]\n",
    "print(_batch_x)\n",
    "batch_i, batch_j = _batch_x[:, 0], _batch_x[:, 1]\n",
    "print(batch_i)\n",
    "print(batch_j)\n",
    "\n",
    "_sum = batch_i + batch_j\n",
    "print(_sum)\n",
    "print(_batch_y.T)\n",
    "print(torch.equal(_batch_y.squeeze(dim=1), _sum))\n",
    "print(_batch_y.squeeze(dim=1).shape)\n",
    "print(_sum.shape)\n",
    "# _outputs = model(_batch_x)"
   ]
  },
  {
   "cell_type": "markdown",
   "metadata": {},
   "source": [
    "## Trying the model"
   ]
  },
  {
   "cell_type": "code",
   "execution_count": 7,
   "metadata": {},
   "outputs": [
    {
     "name": "stdout",
     "output_type": "stream",
     "text": [
      "i: 5, j: 6\n",
      "Expected: 11, got: 11.012231826782227\n"
     ]
    }
   ],
   "source": [
    "def sum_numbers(x, model):\n",
    "    model.eval()\n",
    "    y_pred = model(x)\n",
    "    return y_pred.item()\n",
    "\n",
    "i_rand = torch.randint(0, 10, (1,)).item()\n",
    "j_rand = torch.randint(0, 10, (1,)).item()\n",
    "x = torch.tensor([i_rand, j_rand], dtype=torch.float32).to(DEVICE)\n",
    "result = sum_numbers(x, model)\n",
    "\n",
    "print(f'i: {i_rand}, j: {j_rand}')\n",
    "print(f'Expected: {i_rand + j_rand}, got: {result}')\n"
   ]
  },
  {
   "cell_type": "markdown",
   "metadata": {},
   "source": [
    "## ONNX export"
   ]
  },
  {
   "cell_type": "code",
   "execution_count": 22,
   "metadata": {},
   "outputs": [],
   "source": [
    "i_rand = torch.randint(0, 10, (1,)).item()\n",
    "j_rand = torch.randint(0, 10, (1,)).item()\n",
    "x = torch.tensor([i_rand, j_rand], dtype=torch.float32).to(DEVICE)\n",
    "\n",
    "model_name = \"two_layer_net\"\n",
    "torch.onnx.export(model=model,args=x, f=f\"./models/onnx/{model_name}.onnx\", input_names=[\"input\"], output_names=[\"prediction\"])\n"
   ]
  }
 ],
 "metadata": {
  "kernelspec": {
   "display_name": "lgvit",
   "language": "python",
   "name": "python3"
  },
  "language_info": {
   "codemirror_mode": {
    "name": "ipython",
    "version": 3
   },
   "file_extension": ".py",
   "mimetype": "text/x-python",
   "name": "python",
   "nbconvert_exporter": "python",
   "pygments_lexer": "ipython3",
   "version": "3.9.20"
  }
 },
 "nbformat": 4,
 "nbformat_minor": 2
}
